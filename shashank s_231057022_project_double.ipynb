{
 "cells": [
  {
   "cell_type": "code",
   "execution_count": 2,
   "metadata": {},
   "outputs": [
    {
     "name": "stdout",
     "output_type": "stream",
     "text": [
      "<title>BWF Fansite</title>\n"
     ]
    }
   ],
   "source": [
    "import requests\n",
    "from bs4 import BeautifulSoup\n",
    "main=requests.get(\"https://bwfbadminton.com/\")\n",
    "soup=BeautifulSoup(main.text,'html')\n",
    "print(soup.find('title'))\n",
    "#prints title\n",
    "main_page=soup.find_all(\"div\",class_='analytics-hidden-element')\n",
    "for i in main_page:\n",
    "    print(i)\n",
    "#prints contents of the class contactus\n",
    "overview=soup.find_all(class_='analytics-hidden-element')\n",
    "for z in overview:\n",
    "    print(z.text)"
   ]
  },
  {
   "cell_type": "code",
   "execution_count": 4,
   "metadata": {},
   "outputs": [
    {
     "name": "stdout",
     "output_type": "stream",
     "text": [
      "\n",
      "QUICK LINKS\n",
      "Home\n",
      "Rankings\n",
      "Calendar\n",
      "Players\n",
      "News & Media\n",
      "Match Centre\n",
      "Newsletter Signup\n",
      " \n"
     ]
    }
   ],
   "source": [
    "# URL of the secondary page\n",
    "secondary_url = \"https://bwfbadminton.com/news/\"\n",
    "response_secondary = requests.get(secondary_url)\n",
    "soup_secondary = BeautifulSoup(response_secondary.content, 'html.parser')\n",
    "\n",
    "div_elements = soup_secondary.find_all(\"div\", class_='footer-widget quick-link')\n",
    "for h3 in div_elements:\n",
    "    print(h3.text)"
   ]
  }
 ],
 "metadata": {
  "kernelspec": {
   "display_name": "pycaretenv",
   "language": "python",
   "name": "python3"
  },
  "language_info": {
   "codemirror_mode": {
    "name": "ipython",
    "version": 3
   },
   "file_extension": ".py",
   "mimetype": "text/x-python",
   "name": "python",
   "nbconvert_exporter": "python",
   "pygments_lexer": "ipython3",
   "version": "3.9.17"
  },
  "orig_nbformat": 4
 },
 "nbformat": 4,
 "nbformat_minor": 2
}
