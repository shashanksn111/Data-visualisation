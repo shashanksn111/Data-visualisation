{
 "cells": [
  {
   "cell_type": "code",
   "execution_count": 1,
   "metadata": {},
   "outputs": [
    {
     "name": "stdout",
     "output_type": "stream",
     "text": [
      "Collecting bs4\n",
      "  Downloading bs4-0.0.1.tar.gz (1.1 kB)\n",
      "  Preparing metadata (setup.py): started\n",
      "  Preparing metadata (setup.py): finished with status 'done'\n",
      "Collecting beautifulsoup4 (from bs4)\n",
      "  Downloading beautifulsoup4-4.12.2-py3-none-any.whl (142 kB)\n",
      "     ---------------------------------------- 0.0/143.0 kB ? eta -:--:--\n",
      "     -- ------------------------------------- 10.2/143.0 kB ? eta -:--:--\n",
      "     -- ------------------------------------- 10.2/143.0 kB ? eta -:--:--\n",
      "     --------------- --------------------- 61.4/143.0 kB 544.7 kB/s eta 0:00:01\n",
      "     ------------------------------ ----- 122.9/143.0 kB 717.5 kB/s eta 0:00:01\n",
      "     --------------------------------- -- 133.1/143.0 kB 714.4 kB/s eta 0:00:01\n",
      "     --------------------------------- -- 133.1/143.0 kB 714.4 kB/s eta 0:00:01\n",
      "     --------------------------------- -- 133.1/143.0 kB 714.4 kB/s eta 0:00:01\n",
      "     --------------------------------- -- 133.1/143.0 kB 714.4 kB/s eta 0:00:01\n",
      "     --------------------------------- -- 133.1/143.0 kB 714.4 kB/s eta 0:00:01\n",
      "     --------------------------------- -- 133.1/143.0 kB 714.4 kB/s eta 0:00:01\n",
      "     --------------------------------- -- 133.1/143.0 kB 714.4 kB/s eta 0:00:01\n",
      "     --------------------------------- -- 133.1/143.0 kB 714.4 kB/s eta 0:00:01\n",
      "     --------------------------------- -- 133.1/143.0 kB 714.4 kB/s eta 0:00:01\n",
      "     --------------------------------- -- 133.1/143.0 kB 714.4 kB/s eta 0:00:01\n",
      "     --------------------------------- -- 133.1/143.0 kB 714.4 kB/s eta 0:00:01\n",
      "     --------------------------------- -- 133.1/143.0 kB 714.4 kB/s eta 0:00:01\n",
      "     --------------------------------- -- 133.1/143.0 kB 714.4 kB/s eta 0:00:01\n",
      "     ------------------------------------ 143.0/143.0 kB 166.5 kB/s eta 0:00:00\n",
      "Collecting soupsieve>1.2 (from beautifulsoup4->bs4)\n",
      "  Downloading soupsieve-2.4.1-py3-none-any.whl (36 kB)\n",
      "Building wheels for collected packages: bs4\n",
      "  Building wheel for bs4 (setup.py): started\n",
      "  Building wheel for bs4 (setup.py): finished with status 'done'\n",
      "  Created wheel for bs4: filename=bs4-0.0.1-py3-none-any.whl size=1264 sha256=a0c6728fd680c38bc4d31abf894e3add8d71d7e9d6c34197a72f5ae5f87ba468\n",
      "  Stored in directory: c:\\users\\msis\\appdata\\local\\pip\\cache\\wheels\\73\\2b\\cb\\099980278a0c9a3e57ff1a89875ec07bfa0b6fcbebb9a8cad3\n",
      "Successfully built bs4\n",
      "Installing collected packages: soupsieve, beautifulsoup4, bs4\n",
      "Successfully installed beautifulsoup4-4.12.2 bs4-0.0.1 soupsieve-2.4.1\n",
      "Note: you may need to restart the kernel to use updated packages.\n"
     ]
    }
   ],
   "source": [
    "pip install bs4"
   ]
  },
  {
   "cell_type": "code",
   "execution_count": 2,
   "metadata": {},
   "outputs": [
    {
     "name": "stdout",
     "output_type": "stream",
     "text": [
      "Collecting texttable\n",
      "  Downloading texttable-1.6.7-py2.py3-none-any.whl (10 kB)\n",
      "Installing collected packages: texttable\n",
      "Successfully installed texttable-1.6.7\n",
      "Note: you may need to restart the kernel to use updated packages.\n"
     ]
    }
   ],
   "source": [
    "pip install texttable"
   ]
  },
  {
   "cell_type": "code",
   "execution_count": null,
   "metadata": {},
   "outputs": [],
   "source": []
  },
  {
   "cell_type": "code",
   "execution_count": 12,
   "metadata": {},
   "outputs": [
    {
     "name": "stdout",
     "output_type": "stream",
     "text": [
      "<title>BWF Fansite</title>\n"
     ]
    }
   ],
   "source": [
    "# ## scrap data from wikipedia\n",
    "\n",
    "import requests\n",
    "from bs4 import BeautifulSoup\n",
    "\n",
    "bwfbadminton=requests.get(\"https://bwfbadminton.com/\")\n",
    "soup=BeautifulSoup(bwfbadminton.text,'html')\n",
    "print(soup.find('title'))"
   ]
  },
  {
   "cell_type": "code",
   "execution_count": 11,
   "metadata": {},
   "outputs": [
    {
     "name": "stdout",
     "output_type": "stream",
     "text": [
      "Collecting requests\n",
      "  Obtaining dependency information for requests from https://files.pythonhosted.org/packages/70/8e/0e2d847013cb52cd35b38c009bb167a1a26b2ce6cd6965bf26b47bc0bf44/requests-2.31.0-py3-none-any.whl.metadata\n",
      "  Downloading requests-2.31.0-py3-none-any.whl.metadata (4.6 kB)\n",
      "Collecting charset-normalizer<4,>=2 (from requests)\n",
      "  Obtaining dependency information for charset-normalizer<4,>=2 from https://files.pythonhosted.org/packages/cb/dd/dce14328e6abe0f475e606131298b4c8f628abd62a4e6f27fdfa496b9efe/charset_normalizer-3.2.0-cp39-cp39-win_amd64.whl.metadata\n",
      "  Downloading charset_normalizer-3.2.0-cp39-cp39-win_amd64.whl.metadata (31 kB)\n",
      "Collecting idna<4,>=2.5 (from requests)\n",
      "  Downloading idna-3.4-py3-none-any.whl (61 kB)\n",
      "     ---------------------------------------- 0.0/61.5 kB ? eta -:--:--\n",
      "     ------ --------------------------------- 10.2/61.5 kB ? eta -:--:--\n",
      "     ------ --------------------------------- 10.2/61.5 kB ? eta -:--:--\n",
      "     ------------------ ------------------- 30.7/61.5 kB 187.9 kB/s eta 0:00:01\n",
      "     -------------------------------------  61.4/61.5 kB 297.7 kB/s eta 0:00:01\n",
      "     -------------------------------------- 61.5/61.5 kB 234.2 kB/s eta 0:00:00\n",
      "Collecting urllib3<3,>=1.21.1 (from requests)\n",
      "  Obtaining dependency information for urllib3<3,>=1.21.1 from https://files.pythonhosted.org/packages/9b/81/62fd61001fa4b9d0df6e31d47ff49cfa9de4af03adecf339c7bc30656b37/urllib3-2.0.4-py3-none-any.whl.metadata\n",
      "  Downloading urllib3-2.0.4-py3-none-any.whl.metadata (6.6 kB)\n",
      "Collecting certifi>=2017.4.17 (from requests)\n",
      "  Obtaining dependency information for certifi>=2017.4.17 from https://files.pythonhosted.org/packages/4c/dd/2234eab22353ffc7d94e8d13177aaa050113286e93e7b40eae01fbf7c3d9/certifi-2023.7.22-py3-none-any.whl.metadata\n",
      "  Downloading certifi-2023.7.22-py3-none-any.whl.metadata (2.2 kB)\n",
      "Downloading requests-2.31.0-py3-none-any.whl (62 kB)\n",
      "   ---------------------------------------- 0.0/62.6 kB ? eta -:--:--\n",
      "   ------ --------------------------------- 10.2/62.6 kB ? eta -:--:--\n",
      "   ------ --------------------------------- 10.2/62.6 kB ? eta -:--:--\n",
      "   ------------------- -------------------- 30.7/62.6 kB 217.9 kB/s eta 0:00:01\n",
      "   ---------------------------------------  61.4/62.6 kB 465.5 kB/s eta 0:00:01\n",
      "   ---------------------------------------- 62.6/62.6 kB 278.4 kB/s eta 0:00:00\n",
      "Downloading certifi-2023.7.22-py3-none-any.whl (158 kB)\n",
      "   ---------------------------------------- 0.0/158.3 kB ? eta -:--:--\n",
      "   -- ------------------------------------- 10.2/158.3 kB ? eta -:--:--\n",
      "   ------- ------------------------------- 30.7/158.3 kB 435.7 kB/s eta 0:00:01\n",
      "   ------- ------------------------------- 30.7/158.3 kB 435.7 kB/s eta 0:00:01\n",
      "   --------------- ----------------------- 61.4/158.3 kB 328.2 kB/s eta 0:00:01\n",
      "   ----------------- --------------------- 71.7/158.3 kB 302.7 kB/s eta 0:00:01\n",
      "   ---------------------- ---------------- 92.2/158.3 kB 327.7 kB/s eta 0:00:01\n",
      "   ---------------------- ---------------- 92.2/158.3 kB 327.7 kB/s eta 0:00:01\n",
      "   ---------------------- ---------------- 92.2/158.3 kB 327.7 kB/s eta 0:00:01\n",
      "   --------------------------- ---------- 112.6/158.3 kB 261.9 kB/s eta 0:00:01\n",
      "   --------------------------- ---------- 112.6/158.3 kB 261.9 kB/s eta 0:00:01\n",
      "   --------------------------- ---------- 112.6/158.3 kB 261.9 kB/s eta 0:00:01\n",
      "   ----------------------------- -------- 122.9/158.3 kB 218.3 kB/s eta 0:00:01\n",
      "   ---------------------------------- --- 143.4/158.3 kB 243.4 kB/s eta 0:00:01\n",
      "   ------------------------------------ - 153.6/158.3 kB 229.4 kB/s eta 0:00:01\n",
      "   ------------------------------------ - 153.6/158.3 kB 229.4 kB/s eta 0:00:01\n",
      "   ------------------------------------ - 153.6/158.3 kB 229.4 kB/s eta 0:00:01\n",
      "   -------------------------------------- 158.3/158.3 kB 201.8 kB/s eta 0:00:00\n",
      "Downloading charset_normalizer-3.2.0-cp39-cp39-win_amd64.whl (96 kB)\n",
      "   ---------------------------------------- 0.0/96.9 kB ? eta -:--:--\n",
      "   ---------------------------------------- 0.0/96.9 kB ? eta -:--:--\n",
      "   ---- ----------------------------------- 10.2/96.9 kB ? eta -:--:--\n",
      "   ---- ----------------------------------- 10.2/96.9 kB ? eta -:--:--\n",
      "   ------------ --------------------------- 30.7/96.9 kB 262.6 kB/s eta 0:00:01\n",
      "   ---------------- ----------------------- 41.0/96.9 kB 217.9 kB/s eta 0:00:01\n",
      "   ---------------- ----------------------- 41.0/96.9 kB 217.9 kB/s eta 0:00:01\n",
      "   ------------------------- -------------- 61.4/96.9 kB 217.9 kB/s eta 0:00:01\n",
      "   ------------------------- -------------- 61.4/96.9 kB 217.9 kB/s eta 0:00:01\n",
      "   ------------------------- -------------- 61.4/96.9 kB 217.9 kB/s eta 0:00:01\n",
      "   --------------------------------- ------ 81.9/96.9 kB 191.1 kB/s eta 0:00:01\n",
      "   -------------------------------------- - 92.2/96.9 kB 209.5 kB/s eta 0:00:01\n",
      "   -------------------------------------- - 92.2/96.9 kB 209.5 kB/s eta 0:00:01\n",
      "   -------------------------------------- - 92.2/96.9 kB 209.5 kB/s eta 0:00:01\n",
      "   ---------------------------------------- 96.9/96.9 kB 158.4 kB/s eta 0:00:00\n",
      "Downloading urllib3-2.0.4-py3-none-any.whl (123 kB)\n",
      "   ---------------------------------------- 0.0/123.9 kB ? eta -:--:--\n",
      "   ---------------------------------------- 0.0/123.9 kB ? eta -:--:--\n",
      "   --- ------------------------------------ 10.2/123.9 kB ? eta -:--:--\n",
      "   --- ------------------------------------ 10.2/123.9 kB ? eta -:--:--\n",
      "   --------- ----------------------------- 30.7/123.9 kB 217.9 kB/s eta 0:00:01\n",
      "   ------------ -------------------------- 41.0/123.9 kB 217.9 kB/s eta 0:00:01\n",
      "   ------------ -------------------------- 41.0/123.9 kB 217.9 kB/s eta 0:00:01\n",
      "   ------------ -------------------------- 41.0/123.9 kB 217.9 kB/s eta 0:00:01\n",
      "   ------------------- ------------------- 61.4/123.9 kB 192.5 kB/s eta 0:00:01\n",
      "   ------------------- ------------------- 61.4/123.9 kB 192.5 kB/s eta 0:00:01\n",
      "   ------------------------- ------------- 81.9/123.9 kB 191.1 kB/s eta 0:00:01\n",
      "   ------------------------- ------------- 81.9/123.9 kB 191.1 kB/s eta 0:00:01\n",
      "   ----------------------------- --------- 92.2/123.9 kB 174.7 kB/s eta 0:00:01\n",
      "   ----------------------------- --------- 92.2/123.9 kB 174.7 kB/s eta 0:00:01\n",
      "   ----------------------------- --------- 92.2/123.9 kB 174.7 kB/s eta 0:00:01\n",
      "   -------------------------------------  122.9/123.9 kB 184.7 kB/s eta 0:00:01\n",
      "   -------------------------------------  122.9/123.9 kB 184.7 kB/s eta 0:00:01\n",
      "   -------------------------------------  122.9/123.9 kB 184.7 kB/s eta 0:00:01\n",
      "   -------------------------------------  122.9/123.9 kB 184.7 kB/s eta 0:00:01\n",
      "   -------------------------------------  122.9/123.9 kB 184.7 kB/s eta 0:00:01\n",
      "   -------------------------------------  122.9/123.9 kB 184.7 kB/s eta 0:00:01\n",
      "   -------------------------------------  122.9/123.9 kB 184.7 kB/s eta 0:00:01\n",
      "   -------------------------------------  122.9/123.9 kB 184.7 kB/s eta 0:00:01\n",
      "   -------------------------------------- 123.9/123.9 kB 115.4 kB/s eta 0:00:00\n",
      "Installing collected packages: urllib3, idna, charset-normalizer, certifi, requests\n",
      "Successfully installed certifi-2023.7.22 charset-normalizer-3.2.0 idna-3.4 requests-2.31.0 urllib3-2.0.4\n",
      "Note: you may need to restart the kernel to use updated packages.\n"
     ]
    },
    {
     "name": "stderr",
     "output_type": "stream",
     "text": [
      "  WARNING: The script normalizer.exe is installed in 'c:\\Users\\MSIS\\anaconda3\\envs\\pycaretenv\\Scripts' which is not on PATH.\n",
      "  Consider adding this directory to PATH or, if you prefer to suppress this warning, use --no-warn-script-location.\n"
     ]
    }
   ],
   "source": [
    "pip install requests"
   ]
  },
  {
   "cell_type": "code",
   "execution_count": 16,
   "metadata": {},
   "outputs": [
    {
     "ename": "SyntaxError",
     "evalue": "invalid syntax (2995287994.py, line 2)",
     "output_type": "error",
     "traceback": [
      "\u001b[1;36m  Cell \u001b[1;32mIn[16], line 2\u001b[1;36m\u001b[0m\n\u001b[1;33m    for i in footer-widget platform-links:\u001b[0m\n\u001b[1;37m                           ^\u001b[0m\n\u001b[1;31mSyntaxError\u001b[0m\u001b[1;31m:\u001b[0m invalid syntax\n"
     ]
    }
   ],
   "source": [
    "bwfbadminton=soup.find_all(\"div\",class_='footer-widget platform-links')\n",
    "for i in footer-widget platform-links:\n",
    "    print(i)"
   ]
  }
 ],
 "metadata": {
  "kernelspec": {
   "display_name": "base",
   "language": "python",
   "name": "python3"
  },
  "language_info": {
   "codemirror_mode": {
    "name": "ipython",
    "version": 3
   },
   "file_extension": ".py",
   "mimetype": "text/x-python",
   "name": "python",
   "nbconvert_exporter": "python",
   "pygments_lexer": "ipython3",
   "version": "3.9.17"
  },
  "orig_nbformat": 4
 },
 "nbformat": 4,
 "nbformat_minor": 2
}
